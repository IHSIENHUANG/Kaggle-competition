{
 "cells": [
  {
   "cell_type": "code",
   "execution_count": 6,
   "metadata": {},
   "outputs": [],
   "source": [
    "import pandas as pd\n",
    "from pydoc import help\n",
    "from scipy.stats.stats import pearsonr"
   ]
  },
  {
   "cell_type": "code",
   "execution_count": 3,
   "metadata": {},
   "outputs": [
    {
     "name": "stderr",
     "output_type": "stream",
     "text": [
      "/usr/local/lib/python3.5/dist-packages/IPython/core/interactiveshell.py:2728: DtypeWarning: Columns (0,1) have mixed types. Specify dtype option on import or set low_memory=False.\n",
      "  interactivity=interactivity, compiler=compiler, result=result)\n"
     ]
    }
   ],
   "source": [
    "NN_sub = pd.read_csv(\"nn.csv\",header=None)\n",
    "GBM_sub = pd.read_csv(\"GBM.csv\",header=None)"
   ]
  },
  {
   "cell_type": "code",
   "execution_count": 9,
   "metadata": {},
   "outputs": [
    {
     "data": {
      "text/html": [
       "<div>\n",
       "<style scoped>\n",
       "    .dataframe tbody tr th:only-of-type {\n",
       "        vertical-align: middle;\n",
       "    }\n",
       "\n",
       "    .dataframe tbody tr th {\n",
       "        vertical-align: top;\n",
       "    }\n",
       "\n",
       "    .dataframe thead th {\n",
       "        text-align: right;\n",
       "    }\n",
       "</style>\n",
       "<table border=\"1\" class=\"dataframe\">\n",
       "  <thead>\n",
       "    <tr style=\"text-align: right;\">\n",
       "      <th></th>\n",
       "      <th>0</th>\n",
       "      <th>1</th>\n",
       "    </tr>\n",
       "  </thead>\n",
       "  <tbody>\n",
       "    <tr>\n",
       "      <th>0</th>\n",
       "      <td>click_id</td>\n",
       "      <td>is_attributed</td>\n",
       "    </tr>\n",
       "    <tr>\n",
       "      <th>1</th>\n",
       "      <td>0</td>\n",
       "      <td>0.0016269246</td>\n",
       "    </tr>\n",
       "    <tr>\n",
       "      <th>2</th>\n",
       "      <td>1</td>\n",
       "      <td>0.0020738316</td>\n",
       "    </tr>\n",
       "    <tr>\n",
       "      <th>3</th>\n",
       "      <td>2</td>\n",
       "      <td>6.577087e-05</td>\n",
       "    </tr>\n",
       "    <tr>\n",
       "      <th>4</th>\n",
       "      <td>3</td>\n",
       "      <td>0.0005322532</td>\n",
       "    </tr>\n",
       "  </tbody>\n",
       "</table>\n",
       "</div>"
      ],
      "text/plain": [
       "          0              1\n",
       "0  click_id  is_attributed\n",
       "1         0   0.0016269246\n",
       "2         1   0.0020738316\n",
       "3         2   6.577087e-05\n",
       "4         3   0.0005322532"
      ]
     },
     "execution_count": 9,
     "metadata": {},
     "output_type": "execute_result"
    }
   ],
   "source": [
    "NN_sub.head()"
   ]
  },
  {
   "cell_type": "code",
   "execution_count": 11,
   "metadata": {},
   "outputs": [
    {
     "data": {
      "text/html": [
       "<div>\n",
       "<style scoped>\n",
       "    .dataframe tbody tr th:only-of-type {\n",
       "        vertical-align: middle;\n",
       "    }\n",
       "\n",
       "    .dataframe tbody tr th {\n",
       "        vertical-align: top;\n",
       "    }\n",
       "\n",
       "    .dataframe thead th {\n",
       "        text-align: right;\n",
       "    }\n",
       "</style>\n",
       "<table border=\"1\" class=\"dataframe\">\n",
       "  <thead>\n",
       "    <tr style=\"text-align: right;\">\n",
       "      <th></th>\n",
       "      <th>0</th>\n",
       "      <th>1</th>\n",
       "    </tr>\n",
       "  </thead>\n",
       "  <tbody>\n",
       "    <tr>\n",
       "      <th>1</th>\n",
       "      <td>0</td>\n",
       "      <td>0.11931035753858325</td>\n",
       "    </tr>\n",
       "    <tr>\n",
       "      <th>2</th>\n",
       "      <td>1</td>\n",
       "      <td>0.025634857501578522</td>\n",
       "    </tr>\n",
       "    <tr>\n",
       "      <th>3</th>\n",
       "      <td>2</td>\n",
       "      <td>0.0014199062992056167</td>\n",
       "    </tr>\n",
       "    <tr>\n",
       "      <th>4</th>\n",
       "      <td>3</td>\n",
       "      <td>0.03054269154646259</td>\n",
       "    </tr>\n",
       "    <tr>\n",
       "      <th>5</th>\n",
       "      <td>4</td>\n",
       "      <td>0.006489986904700859</td>\n",
       "    </tr>\n",
       "  </tbody>\n",
       "</table>\n",
       "</div>"
      ],
      "text/plain": [
       "   0                      1\n",
       "1  0    0.11931035753858325\n",
       "2  1   0.025634857501578522\n",
       "3  2  0.0014199062992056167\n",
       "4  3    0.03054269154646259\n",
       "5  4   0.006489986904700859"
      ]
     },
     "execution_count": 11,
     "metadata": {},
     "output_type": "execute_result"
    }
   ],
   "source": [
    "GBM_sub[1:].head()"
   ]
  },
  {
   "cell_type": "code",
   "execution_count": 14,
   "metadata": {},
   "outputs": [
    {
     "name": "stdout",
     "output_type": "stream",
     "text": [
      "1             0.0016269246\n",
      "2             0.0020738316\n",
      "3             6.577087e-05\n",
      "4             0.0005322532\n",
      "5            4.2779116e-05\n",
      "6             0.0003904021\n",
      "7            0.00019628968\n",
      "8             0.0013263411\n",
      "9             0.0013065864\n",
      "10           1.4398973e-06\n",
      "11            0.0016110636\n",
      "12            6.446612e-05\n",
      "13           0.00017717607\n",
      "14             0.008057337\n",
      "15            5.645189e-05\n",
      "16           4.7410056e-05\n",
      "17            0.0047647646\n",
      "18           4.7410056e-05\n",
      "19            0.0024413595\n",
      "20           0.00018209519\n",
      "21           5.0456518e-05\n",
      "22             0.002157226\n",
      "23           0.00042682645\n",
      "24          0.000117442396\n",
      "25            5.573319e-06\n",
      "26           0.00057417265\n",
      "27            0.0004038483\n",
      "28           0.00020008997\n",
      "29           1.8920153e-06\n",
      "30           4.4860604e-05\n",
      "                 ...      \n",
      "18790440         0.0139284\n",
      "18790441       0.000448136\n",
      "18790442        0.00200019\n",
      "18790443       2.90184e-05\n",
      "18790444        0.00015504\n",
      "18790445        0.00093591\n",
      "18790446       5.46835e-05\n",
      "18790447       5.34737e-05\n",
      "18790448       2.59589e-05\n",
      "18790449        0.00043507\n",
      "18790450       0.000139632\n",
      "18790451       8.71816e-06\n",
      "18790452       0.000337567\n",
      "18790453        1.0037e-05\n",
      "18790454        0.00133976\n",
      "18790455        6.6924e-06\n",
      "18790456        0.00359842\n",
      "18790457       0.000997731\n",
      "18790458        0.00211258\n",
      "18790459       0.000553365\n",
      "18790460       1.22385e-06\n",
      "18790461        0.00127249\n",
      "18790462       3.09698e-05\n",
      "18790463       5.62437e-05\n",
      "18790464       0.000133216\n",
      "18790465        0.00322822\n",
      "18790466       2.00245e-06\n",
      "18790467       0.000255778\n",
      "18790468        0.00228085\n",
      "18790469       3.05462e-06\n",
      "Name: 1, Length: 18790469, dtype: object\n"
     ]
    }
   ],
   "source": [
    "print (NN_sub[1][1:])"
   ]
  },
  {
   "cell_type": "code",
   "execution_count": 31,
   "metadata": {},
   "outputs": [
    {
     "name": "stdout",
     "output_type": "stream",
     "text": [
      "done\n"
     ]
    }
   ],
   "source": [
    "import numpy as np\n",
    "import pandas as pd\n",
    "import os\n",
    "from sklearn.linear_model import LogisticRegression\n",
    "from scipy.special import expit, logit\n",
    "from sklearn.metrics import roc_auc_score\n",
    "#df = pd.DataFrame({'A':NN_sub[1][1:],'B':GBM_sub[1][1:]})\n",
    "#print (df)\n",
    "A=[]\n",
    "B= []\n",
    "for val in NN_sub[1][1:]:\n",
    "    #print (val)\n",
    "    A.append(float(val))\n",
    "for val in GBM_sub[1][1:]:\n",
    "    #print (val)\n",
    "    B.append(float(val))\n",
    "df = pd.DataFrame({'A':A,'B':B})\n",
    "print ('done')"
   ]
  },
  {
   "cell_type": "code",
   "execution_count": 32,
   "metadata": {},
   "outputs": [
    {
     "data": {
      "text/plain": [
       "0.44292465768618006"
      ]
     },
     "execution_count": 32,
     "metadata": {},
     "output_type": "execute_result"
    }
   ],
   "source": [
    "df['A'].corr(df['B'])"
   ]
  },
  {
   "cell_type": "code",
   "execution_count": null,
   "metadata": {},
   "outputs": [],
   "source": []
  }
 ],
 "metadata": {
  "kernelspec": {
   "display_name": "Python 3",
   "language": "python",
   "name": "python3"
  },
  "language_info": {
   "codemirror_mode": {
    "name": "ipython",
    "version": 3
   },
   "file_extension": ".py",
   "mimetype": "text/x-python",
   "name": "python",
   "nbconvert_exporter": "python",
   "pygments_lexer": "ipython3",
   "version": "3.5.2"
  }
 },
 "nbformat": 4,
 "nbformat_minor": 2
}
