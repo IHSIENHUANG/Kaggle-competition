{
 "cells": [
  {
   "cell_type": "code",
   "execution_count": 1,
   "metadata": {
    "_cell_guid": "b1076dfc-b9ad-4769-8c92-a6c4dae69d19",
    "_uuid": "8f2839f25d086af736a60e9eeb907d3b93b6e0e5"
   },
   "outputs": [],
   "source": [
    "import numpy as np # linear algebra\n",
    "import pandas as pd # data processing, CSV file I/O (e.g. pd.read_csv)\n",
    "import datetime\n",
    "import os\n",
    "#print(os.listdir(\"../input\"))\n",
    "\n",
    "import time\n",
    "\n",
    "import matplotlib.pyplot as plt\n",
    "import seaborn as sns\n",
    "%matplotlib inline"
   ]
  },
  {
   "cell_type": "code",
   "execution_count": 2,
   "metadata": {
    "_cell_guid": "e25b2d7b-91d6-4adc-b14c-6138d95e2b42",
    "_uuid": "59d54fbff98ae0df074090ea59d700bbf4580593"
   },
   "outputs": [
    {
     "data": {
      "text/plain": [
       "<Figure size 864x360 with 0 Axes>"
      ]
     },
     "metadata": {},
     "output_type": "display_data"
    }
   ],
   "source": [
    "#make wider graphs\n",
    "sns.set(rc={'figure.figsize':(12,5)});\n",
    "plt.figure(figsize=(12,5));"
   ]
  },
  {
   "cell_type": "markdown",
   "metadata": {
    "_cell_guid": "b013d100-9ea1-44bd-bcc1-cecf530e1530",
    "_uuid": "570e8e53b45e4d825ddabfb3d5f237640efbce51"
   },
   "source": [
    "This notebook is built using some of ideas in the book by *anokas* at  https://www.kaggle.com/anokas/talkingdata-adtracking-eda  .  I suggest reviewing that book first.\n",
    "\n",
    "For this part I use  the first 10 million rows from train ( as the complete sets are too big for this kernel) and the full test data.\n",
    "\n",
    "Note:  in the notebook I sometimes refer to downloads as conversions.  i.e. is_attributed == 1  means the click converted."
   ]
  },
  {
   "cell_type": "code",
   "execution_count": 3,
   "metadata": {
    "_cell_guid": "79c7e3d0-c299-4dcb-8224-4455121ee9b0",
    "_uuid": "d629ff2d2480ee46fbb7e2d37f6b5fab8052498a"
   },
   "outputs": [],
   "source": [
    "#import first 10,000,000 rows of train and all test data\n",
    "train = pd.read_csv('../input/train.csv', nrows=10000000)\n",
    "test = pd.read_csv('../input/test.csv')"
   ]
  },
  {
   "cell_type": "code",
   "execution_count": 4,
   "metadata": {
    "_cell_guid": "2c161eb5-7aae-4e20-9136-487c470d6c80",
    "_uuid": "a43dbe3c8dfa57e10c1f0e92b179d19b0a971739"
   },
   "outputs": [
    {
     "data": {
      "text/html": [
       "<div>\n",
       "<style scoped>\n",
       "    .dataframe tbody tr th:only-of-type {\n",
       "        vertical-align: middle;\n",
       "    }\n",
       "\n",
       "    .dataframe tbody tr th {\n",
       "        vertical-align: top;\n",
       "    }\n",
       "\n",
       "    .dataframe thead th {\n",
       "        text-align: right;\n",
       "    }\n",
       "</style>\n",
       "<table border=\"1\" class=\"dataframe\">\n",
       "  <thead>\n",
       "    <tr style=\"text-align: right;\">\n",
       "      <th></th>\n",
       "      <th>ip</th>\n",
       "      <th>app</th>\n",
       "      <th>device</th>\n",
       "      <th>os</th>\n",
       "      <th>channel</th>\n",
       "      <th>click_time</th>\n",
       "      <th>attributed_time</th>\n",
       "      <th>is_attributed</th>\n",
       "    </tr>\n",
       "  </thead>\n",
       "  <tbody>\n",
       "    <tr>\n",
       "      <th>0</th>\n",
       "      <td>83230</td>\n",
       "      <td>3</td>\n",
       "      <td>1</td>\n",
       "      <td>13</td>\n",
       "      <td>379</td>\n",
       "      <td>2017-11-06 14:32:21</td>\n",
       "      <td>NaN</td>\n",
       "      <td>0</td>\n",
       "    </tr>\n",
       "    <tr>\n",
       "      <th>1</th>\n",
       "      <td>17357</td>\n",
       "      <td>3</td>\n",
       "      <td>1</td>\n",
       "      <td>19</td>\n",
       "      <td>379</td>\n",
       "      <td>2017-11-06 14:33:34</td>\n",
       "      <td>NaN</td>\n",
       "      <td>0</td>\n",
       "    </tr>\n",
       "    <tr>\n",
       "      <th>2</th>\n",
       "      <td>35810</td>\n",
       "      <td>3</td>\n",
       "      <td>1</td>\n",
       "      <td>13</td>\n",
       "      <td>379</td>\n",
       "      <td>2017-11-06 14:34:12</td>\n",
       "      <td>NaN</td>\n",
       "      <td>0</td>\n",
       "    </tr>\n",
       "    <tr>\n",
       "      <th>3</th>\n",
       "      <td>45745</td>\n",
       "      <td>14</td>\n",
       "      <td>1</td>\n",
       "      <td>13</td>\n",
       "      <td>478</td>\n",
       "      <td>2017-11-06 14:34:52</td>\n",
       "      <td>NaN</td>\n",
       "      <td>0</td>\n",
       "    </tr>\n",
       "    <tr>\n",
       "      <th>4</th>\n",
       "      <td>161007</td>\n",
       "      <td>3</td>\n",
       "      <td>1</td>\n",
       "      <td>13</td>\n",
       "      <td>379</td>\n",
       "      <td>2017-11-06 14:35:08</td>\n",
       "      <td>NaN</td>\n",
       "      <td>0</td>\n",
       "    </tr>\n",
       "  </tbody>\n",
       "</table>\n",
       "</div>"
      ],
      "text/plain": [
       "       ip  app  device  os  channel           click_time attributed_time  \\\n",
       "0   83230    3       1  13      379  2017-11-06 14:32:21             NaN   \n",
       "1   17357    3       1  19      379  2017-11-06 14:33:34             NaN   \n",
       "2   35810    3       1  13      379  2017-11-06 14:34:12             NaN   \n",
       "3   45745   14       1  13      478  2017-11-06 14:34:52             NaN   \n",
       "4  161007    3       1  13      379  2017-11-06 14:35:08             NaN   \n",
       "\n",
       "   is_attributed  \n",
       "0              0  \n",
       "1              0  \n",
       "2              0  \n",
       "3              0  \n",
       "4              0  "
      ]
     },
     "execution_count": 4,
     "metadata": {},
     "output_type": "execute_result"
    }
   ],
   "source": [
    "train.head()"
   ]
  },
  {
   "cell_type": "code",
   "execution_count": 5,
   "metadata": {
    "_cell_guid": "31fc3607-7e48-4a7b-8ecf-a27d0e236ede",
    "_uuid": "7403ec4981d3dfbe0815a063a2748536a0ff2641"
   },
   "outputs": [
    {
     "data": {
      "text/html": [
       "<div>\n",
       "<style scoped>\n",
       "    .dataframe tbody tr th:only-of-type {\n",
       "        vertical-align: middle;\n",
       "    }\n",
       "\n",
       "    .dataframe tbody tr th {\n",
       "        vertical-align: top;\n",
       "    }\n",
       "\n",
       "    .dataframe thead th {\n",
       "        text-align: right;\n",
       "    }\n",
       "</style>\n",
       "<table border=\"1\" class=\"dataframe\">\n",
       "  <thead>\n",
       "    <tr style=\"text-align: right;\">\n",
       "      <th></th>\n",
       "      <th>click_id</th>\n",
       "      <th>ip</th>\n",
       "      <th>app</th>\n",
       "      <th>device</th>\n",
       "      <th>os</th>\n",
       "      <th>channel</th>\n",
       "      <th>click_time</th>\n",
       "    </tr>\n",
       "  </thead>\n",
       "  <tbody>\n",
       "    <tr>\n",
       "      <th>0</th>\n",
       "      <td>0</td>\n",
       "      <td>5744</td>\n",
       "      <td>9</td>\n",
       "      <td>1</td>\n",
       "      <td>3</td>\n",
       "      <td>107</td>\n",
       "      <td>2017-11-10 04:00:00</td>\n",
       "    </tr>\n",
       "    <tr>\n",
       "      <th>1</th>\n",
       "      <td>1</td>\n",
       "      <td>119901</td>\n",
       "      <td>9</td>\n",
       "      <td>1</td>\n",
       "      <td>3</td>\n",
       "      <td>466</td>\n",
       "      <td>2017-11-10 04:00:00</td>\n",
       "    </tr>\n",
       "    <tr>\n",
       "      <th>2</th>\n",
       "      <td>2</td>\n",
       "      <td>72287</td>\n",
       "      <td>21</td>\n",
       "      <td>1</td>\n",
       "      <td>19</td>\n",
       "      <td>128</td>\n",
       "      <td>2017-11-10 04:00:00</td>\n",
       "    </tr>\n",
       "    <tr>\n",
       "      <th>3</th>\n",
       "      <td>3</td>\n",
       "      <td>78477</td>\n",
       "      <td>15</td>\n",
       "      <td>1</td>\n",
       "      <td>13</td>\n",
       "      <td>111</td>\n",
       "      <td>2017-11-10 04:00:00</td>\n",
       "    </tr>\n",
       "    <tr>\n",
       "      <th>4</th>\n",
       "      <td>4</td>\n",
       "      <td>123080</td>\n",
       "      <td>12</td>\n",
       "      <td>1</td>\n",
       "      <td>13</td>\n",
       "      <td>328</td>\n",
       "      <td>2017-11-10 04:00:00</td>\n",
       "    </tr>\n",
       "  </tbody>\n",
       "</table>\n",
       "</div>"
      ],
      "text/plain": [
       "   click_id      ip  app  device  os  channel           click_time\n",
       "0         0    5744    9       1   3      107  2017-11-10 04:00:00\n",
       "1         1  119901    9       1   3      466  2017-11-10 04:00:00\n",
       "2         2   72287   21       1  19      128  2017-11-10 04:00:00\n",
       "3         3   78477   15       1  13      111  2017-11-10 04:00:00\n",
       "4         4  123080   12       1  13      328  2017-11-10 04:00:00"
      ]
     },
     "execution_count": 5,
     "metadata": {},
     "output_type": "execute_result"
    }
   ],
   "source": [
    "test.head()"
   ]
  },
  {
   "cell_type": "markdown",
   "metadata": {
    "_cell_guid": "49111dbe-0f15-4ac1-bdd3-dbcbff0b1f3a",
    "_uuid": "5813015e82c596d437742c8e8a68a9e2fede27d6"
   },
   "source": [
    "ip, app, device, os and channel are actually categorical variables encoded as integers.   Set them as categories for analysis."
   ]
  },
  {
   "cell_type": "code",
   "execution_count": 6,
   "metadata": {
    "_cell_guid": "f4472ed2-2a98-46be-9897-d66c69fb2bc2",
    "_uuid": "f7898f2be2dbba7e9e11edccd2df8d9f584e88e9"
   },
   "outputs": [],
   "source": [
    "variables = ['ip', 'app', 'device', 'os', 'channel']\n",
    "for v in variables:\n",
    "    train[v] = train[v].astype('category')\n",
    "    test[v]=test[v].astype('category')"
   ]
  },
  {
   "cell_type": "markdown",
   "metadata": {
    "_uuid": "6afab9062d5062f1d22c89fb432d7ed7e914e4a3"
   },
   "source": [
    "Convert date stamps to date/time type."
   ]
  },
  {
   "cell_type": "code",
   "execution_count": 7,
   "metadata": {
    "_cell_guid": "b0b584aa-85a4-4c08-ad55-ad6de781ce4a",
    "_uuid": "c53619647bbc4fd807033011d8f86bf6dd04f3f3"
   },
   "outputs": [],
   "source": [
    "#set click_time and attributed_time as timeseries\n",
    "train['click_time'] = pd.to_datetime(train['click_time'])\n",
    "train['attributed_time'] = pd.to_datetime(train['attributed_time'])\n",
    "test['click_time'] = pd.to_datetime(test['click_time'])\n",
    "\n",
    "#set as_attributed in train as a categorical\n",
    "train['is_attributed']=train['is_attributed'].astype('category')"
   ]
  },
  {
   "cell_type": "markdown",
   "metadata": {
    "_cell_guid": "fb37bf89-40fa-4614-9998-db8dd11db7a8",
    "_uuid": "345337293ceef6c3ddf8bd18ac3f1adfc9e5d6a6"
   },
   "source": [
    "Now lets do a quick inspection of train and test data main statistics"
   ]
  },
  {
   "cell_type": "code",
   "execution_count": 8,
   "metadata": {
    "_cell_guid": "03e28b8d-7241-46d6-a312-a793c92f0449",
    "_uuid": "ebd1a3b95378ed32512ab39360731937028e8aa2"
   },
   "outputs": [
    {
     "data": {
      "text/html": [
       "<div>\n",
       "<style scoped>\n",
       "    .dataframe tbody tr th:only-of-type {\n",
       "        vertical-align: middle;\n",
       "    }\n",
       "\n",
       "    .dataframe tbody tr th {\n",
       "        vertical-align: top;\n",
       "    }\n",
       "\n",
       "    .dataframe thead th {\n",
       "        text-align: right;\n",
       "    }\n",
       "</style>\n",
       "<table border=\"1\" class=\"dataframe\">\n",
       "  <thead>\n",
       "    <tr style=\"text-align: right;\">\n",
       "      <th></th>\n",
       "      <th>ip</th>\n",
       "      <th>app</th>\n",
       "      <th>device</th>\n",
       "      <th>os</th>\n",
       "      <th>channel</th>\n",
       "      <th>click_time</th>\n",
       "      <th>attributed_time</th>\n",
       "      <th>is_attributed</th>\n",
       "    </tr>\n",
       "  </thead>\n",
       "  <tbody>\n",
       "    <tr>\n",
       "      <th>count</th>\n",
       "      <td>10000000.0</td>\n",
       "      <td>10000000.0</td>\n",
       "      <td>10000000.0</td>\n",
       "      <td>10000000.0</td>\n",
       "      <td>10000000.0</td>\n",
       "      <td>10000000</td>\n",
       "      <td>18717</td>\n",
       "      <td>10000000.0</td>\n",
       "    </tr>\n",
       "    <tr>\n",
       "      <th>unique</th>\n",
       "      <td>68740.0</td>\n",
       "      <td>332.0</td>\n",
       "      <td>940.0</td>\n",
       "      <td>292.0</td>\n",
       "      <td>170.0</td>\n",
       "      <td>29943</td>\n",
       "      <td>15698</td>\n",
       "      <td>2.0</td>\n",
       "    </tr>\n",
       "    <tr>\n",
       "      <th>top</th>\n",
       "      <td>73516.0</td>\n",
       "      <td>12.0</td>\n",
       "      <td>1.0</td>\n",
       "      <td>19.0</td>\n",
       "      <td>245.0</td>\n",
       "      <td>2017-11-06 16:05:10</td>\n",
       "      <td>2017-11-06 23:36:23</td>\n",
       "      <td>0.0</td>\n",
       "    </tr>\n",
       "    <tr>\n",
       "      <th>freq</th>\n",
       "      <td>51711.0</td>\n",
       "      <td>1291185.0</td>\n",
       "      <td>9381146.0</td>\n",
       "      <td>2410148.0</td>\n",
       "      <td>793105.0</td>\n",
       "      <td>1261</td>\n",
       "      <td>6</td>\n",
       "      <td>9981283.0</td>\n",
       "    </tr>\n",
       "    <tr>\n",
       "      <th>first</th>\n",
       "      <td>NaN</td>\n",
       "      <td>NaN</td>\n",
       "      <td>NaN</td>\n",
       "      <td>NaN</td>\n",
       "      <td>NaN</td>\n",
       "      <td>2017-11-06 14:32:21</td>\n",
       "      <td>2017-11-06 16:00:47</td>\n",
       "      <td>NaN</td>\n",
       "    </tr>\n",
       "    <tr>\n",
       "      <th>last</th>\n",
       "      <td>NaN</td>\n",
       "      <td>NaN</td>\n",
       "      <td>NaN</td>\n",
       "      <td>NaN</td>\n",
       "      <td>NaN</td>\n",
       "      <td>2017-11-07 00:12:03</td>\n",
       "      <td>2017-11-07 15:59:53</td>\n",
       "      <td>NaN</td>\n",
       "    </tr>\n",
       "  </tbody>\n",
       "</table>\n",
       "</div>"
      ],
      "text/plain": [
       "                ip         app      device          os     channel  \\\n",
       "count   10000000.0  10000000.0  10000000.0  10000000.0  10000000.0   \n",
       "unique     68740.0       332.0       940.0       292.0       170.0   \n",
       "top        73516.0        12.0         1.0        19.0       245.0   \n",
       "freq       51711.0   1291185.0   9381146.0   2410148.0    793105.0   \n",
       "first          NaN         NaN         NaN         NaN         NaN   \n",
       "last           NaN         NaN         NaN         NaN         NaN   \n",
       "\n",
       "                 click_time      attributed_time  is_attributed  \n",
       "count              10000000                18717     10000000.0  \n",
       "unique                29943                15698            2.0  \n",
       "top     2017-11-06 16:05:10  2017-11-06 23:36:23            0.0  \n",
       "freq                   1261                    6      9981283.0  \n",
       "first   2017-11-06 14:32:21  2017-11-06 16:00:47            NaN  \n",
       "last    2017-11-07 00:12:03  2017-11-07 15:59:53            NaN  "
      ]
     },
     "execution_count": 8,
     "metadata": {},
     "output_type": "execute_result"
    }
   ],
   "source": [
    "train.describe()"
   ]
  },
  {
   "cell_type": "markdown",
   "metadata": {
    "_cell_guid": "e4e2c0cb-eb7c-4654-a239-02f76dc947e2",
    "_uuid": "70ab859fa961b7ff5a145338d84aab6ce35ab9e8"
   },
   "source": [
    "*this graph is adapted from https://www.kaggle.com/anokas/talkingdata-adtracking-eda*:"
   ]
  },
  {
   "cell_type": "code",
   "execution_count": 9,
   "metadata": {
    "_cell_guid": "cf5a0bd4-2fb6-4878-aa11-442f09c703f5",
    "_kg_hide-input": true,
    "_uuid": "6b7786295023b880edfd5a5a328d90582258d7d2"
   },
   "outputs": [
    {
     "data": {
      "image/png": "[encoded data removed]",
      "text/plain": [
       "<Figure size 720x432 with 1 Axes>"
      ]
     },
     "metadata": {},
     "output_type": "display_data"
    }
   ],
   "source": [
    "plt.figure(figsize=(10, 6))\n",
    "cols = ['ip', 'app', 'device', 'os', 'channel']\n",
    "uniques = [len(train[col].unique()) for col in cols]\n",
    "sns.set(font_scale=1.2)\n",
    "ax = sns.barplot(cols, uniques, log=True)\n",
    "ax.set(xlabel='Feature', ylabel='log(unique count)', title='Number of unique values per feature (from 10,000,000 samples)')\n",
    "for p, uniq in zip(ax.patches, uniques):\n",
    "    height = p.get_height()\n",
    "    ax.text(p.get_x()+p.get_width()/2.,\n",
    "            height + 10,\n",
    "            uniq,\n",
    "            ha=\"center\") \n",
    "# for col, uniq in zip(cols, uniques):\n",
    "#     ax.text(col, uniq, uniq, color='black', ha=\"center\")"
   ]
  },
  {
   "cell_type": "markdown",
   "metadata": {
    "_uuid": "66cd4a0dd9ecd1c2cc5af83fd6d000a93de0cbc1"
   },
   "source": [
    "Quick check to make sure that Nan values in 'attribute_time' are only for samples that did not convert.  Check that counts of 'attributed_time' values is same as count of converted clicks."
   ]
  },
  {
   "cell_type": "code",
   "execution_count": 10,
   "metadata": {
    "_cell_guid": "908d93fa-6c10-4bd0-b705-6b3b459413e3",
    "_uuid": "298fa2a75026cad4dbe57193935aa68613991473"
   },
   "outputs": [
    {
     "data": {
      "text/html": [
       "<div>\n",
       "<style scoped>\n",
       "    .dataframe tbody tr th:only-of-type {\n",
       "        vertical-align: middle;\n",
       "    }\n",
       "\n",
       "    .dataframe tbody tr th {\n",
       "        vertical-align: top;\n",
       "    }\n",
       "\n",
       "    .dataframe thead th {\n",
       "        text-align: right;\n",
       "    }\n",
       "</style>\n",
       "<table border=\"1\" class=\"dataframe\">\n",
       "  <thead>\n",
       "    <tr style=\"text-align: right;\">\n",
       "      <th></th>\n",
       "      <th>attributed_time</th>\n",
       "      <th>is_attributed</th>\n",
       "    </tr>\n",
       "  </thead>\n",
       "  <tbody>\n",
       "    <tr>\n",
       "      <th>count</th>\n",
       "      <td>18717</td>\n",
       "      <td>18717.0</td>\n",
       "    </tr>\n",
       "    <tr>\n",
       "      <th>unique</th>\n",
       "      <td>15698</td>\n",
       "      <td>1.0</td>\n",
       "    </tr>\n",
       "    <tr>\n",
       "      <th>top</th>\n",
       "      <td>2017-11-06 23:36:23</td>\n",
       "      <td>1.0</td>\n",
       "    </tr>\n",
       "    <tr>\n",
       "      <th>freq</th>\n",
       "      <td>6</td>\n",
       "      <td>18717.0</td>\n",
       "    </tr>\n",
       "    <tr>\n",
       "      <th>first</th>\n",
       "      <td>2017-11-06 16:00:47</td>\n",
       "      <td>NaN</td>\n",
       "    </tr>\n",
       "    <tr>\n",
       "      <th>last</th>\n",
       "      <td>2017-11-07 15:59:53</td>\n",
       "      <td>NaN</td>\n",
       "    </tr>\n",
       "  </tbody>\n",
       "</table>\n",
       "</div>"
      ],
      "text/plain": [
       "            attributed_time  is_attributed\n",
       "count                 18717        18717.0\n",
       "unique                15698            1.0\n",
       "top     2017-11-06 23:36:23            1.0\n",
       "freq                      6        18717.0\n",
       "first   2017-11-06 16:00:47            NaN\n",
       "last    2017-11-07 15:59:53            NaN"
      ]
     },
     "execution_count": 10,
     "metadata": {},
     "output_type": "execute_result"
    }
   ],
   "source": [
    "#double check that 'attributed_time' is not Null for all values that resulted in download (i.e. is_attributed == 1)\n",
    "train[['attributed_time', 'is_attributed']][train['is_attributed']==1].describe()"
   ]
  },
  {
   "cell_type": "code",
   "execution_count": 12,
   "metadata": {
    "_cell_guid": "d9ccd3c5-31c5-4630-b892-4c3f8f49fce7",
    "_uuid": "ea3396fdfe0ab01e9ad093f8114e5c3cb52ac166"
   },
   "outputs": [
    {
     "data": {
      "text/html": [
       "<div>\n",
       "<style scoped>\n",
       "    .dataframe tbody tr th:only-of-type {\n",
       "        vertical-align: middle;\n",
       "    }\n",
       "\n",
       "    .dataframe tbody tr th {\n",
       "        vertical-align: top;\n",
       "    }\n",
       "\n",
       "    .dataframe thead th {\n",
       "        text-align: right;\n",
       "    }\n",
       "</style>\n",
       "<table border=\"1\" class=\"dataframe\">\n",
       "  <thead>\n",
       "    <tr style=\"text-align: right;\">\n",
       "      <th></th>\n",
       "      <th>click_id</th>\n",
       "      <th>ip</th>\n",
       "      <th>app</th>\n",
       "      <th>device</th>\n",
       "      <th>os</th>\n",
       "      <th>channel</th>\n",
       "      <th>click_time</th>\n",
       "    </tr>\n",
       "  </thead>\n",
       "  <tbody>\n",
       "    <tr>\n",
       "      <th>count</th>\n",
       "      <td>18790469.0</td>\n",
       "      <td>18790469.0</td>\n",
       "      <td>18790469.0</td>\n",
       "      <td>18790469.0</td>\n",
       "      <td>18790469.0</td>\n",
       "      <td>18790469.0</td>\n",
       "      <td>18790469</td>\n",
       "    </tr>\n",
       "    <tr>\n",
       "      <th>unique</th>\n",
       "      <td>18790469.0</td>\n",
       "      <td>93936.0</td>\n",
       "      <td>417.0</td>\n",
       "      <td>1985.0</td>\n",
       "      <td>395.0</td>\n",
       "      <td>178.0</td>\n",
       "      <td>21603</td>\n",
       "    </tr>\n",
       "    <tr>\n",
       "      <th>top</th>\n",
       "      <td>18790468.0</td>\n",
       "      <td>5348.0</td>\n",
       "      <td>9.0</td>\n",
       "      <td>1.0</td>\n",
       "      <td>19.0</td>\n",
       "      <td>107.0</td>\n",
       "      <td>2017-11-10 09:00:10</td>\n",
       "    </tr>\n",
       "    <tr>\n",
       "      <th>freq</th>\n",
       "      <td>1.0</td>\n",
       "      <td>182522.0</td>\n",
       "      <td>2872176.0</td>\n",
       "      <td>17360269.0</td>\n",
       "      <td>4334532.0</td>\n",
       "      <td>1214650.0</td>\n",
       "      <td>1466</td>\n",
       "    </tr>\n",
       "    <tr>\n",
       "      <th>first</th>\n",
       "      <td>NaN</td>\n",
       "      <td>NaN</td>\n",
       "      <td>NaN</td>\n",
       "      <td>NaN</td>\n",
       "      <td>NaN</td>\n",
       "      <td>NaN</td>\n",
       "      <td>2017-11-10 04:00:00</td>\n",
       "    </tr>\n",
       "    <tr>\n",
       "      <th>last</th>\n",
       "      <td>NaN</td>\n",
       "      <td>NaN</td>\n",
       "      <td>NaN</td>\n",
       "      <td>NaN</td>\n",
       "      <td>NaN</td>\n",
       "      <td>NaN</td>\n",
       "      <td>2017-11-10 15:00:00</td>\n",
       "    </tr>\n",
       "  </tbody>\n",
       "</table>\n",
       "</div>"
      ],
      "text/plain": [
       "          click_id          ip         app      device          os  \\\n",
       "count   18790469.0  18790469.0  18790469.0  18790469.0  18790469.0   \n",
       "unique  18790469.0     93936.0       417.0      1985.0       395.0   \n",
       "top     18790468.0      5348.0         9.0         1.0        19.0   \n",
       "freq           1.0    182522.0   2872176.0  17360269.0   4334532.0   \n",
       "first          NaN         NaN         NaN         NaN         NaN   \n",
       "last           NaN         NaN         NaN         NaN         NaN   \n",
       "\n",
       "           channel           click_time  \n",
       "count   18790469.0             18790469  \n",
       "unique       178.0                21603  \n",
       "top          107.0  2017-11-10 09:00:10  \n",
       "freq     1214650.0                 1466  \n",
       "first          NaN  2017-11-10 04:00:00  \n",
       "last           NaN  2017-11-10 15:00:00  "
      ]
     },
     "execution_count": 12,
     "metadata": {},
     "output_type": "execute_result"
    }
   ],
   "source": [
    "#set click_id to categorical, for cleaner statistics view\n",
    "test['click_id']=test['click_id'].astype('category')\n",
    "test.describe()"
   ]
  },
  {
   "cell_type": "markdown",
   "metadata": {
    "_cell_guid": "f680b212-6d53-475a-a53a-da126f6a99ae",
    "_uuid": "3360957051064a925ba6f212cdc4665978c44967"
   },
   "source": [
    "**Quick Notes/Observations** :\n",
    "- There are only 18717 attributed_time values.  This means only 18,717 out of 10,000,000 clicks resulted in a download.  That's less than 0.2% !\n",
    "- There are ip adresses that trigger  a click over 50 thousand times.  Seems strange that one ip address would click that often in a span of just 4 days.  Does that mean that ip address encoded is not device id, but network id?  (explore this below)\n",
    "- First click in train set is on 2017-11-06 14:32:21.  Test clicks start on  2017-11-10.  Based on data specifications, train coveres a 4 day period.  This means that the train and test data do not overlap, but test data is taken the day after train data ends.\n",
    "-Train data is ordered by timestamp.  (therefore batches pulled in order cover limited time span)\n",
    "- 2017-11-06 was a Monday.   2017-11-10 was a Friday.  i.e. Train is Mon-Thur, Test is Friday\n",
    "-There is no missing data in Test.  Missing values in train appear to be only for attributed_time, where there isn't any value due to no app download."
   ]
  },
  {
   "cell_type": "markdown",
   "metadata": {
    "_cell_guid": "eb352b8d-1ae2-4aae-a09c-80668ca08a30",
    "_uuid": "cfc1e609e473b358de64f28664f026bd3ad53a20"
   },
   "source": [
    "Only a small proportion of clicks were followed by a download:"
   ]
  },
  {
   "cell_type": "code",
   "execution_count": 13,
   "metadata": {
    "_cell_guid": "62aea014-d731-4ce3-bac7-f81fb842f5bd",
    "_kg_hide-input": true,
    "_uuid": "a04cb16935bb6f8005812e72fce3996017d3dfc5"
   },
   "outputs": [
    {
     "data": {
      "image/png": "[encoded data removed]",
      "text/plain": [
       "<Figure size 432x432 with 1 Axes>"
      ]
     },
     "metadata": {},
     "output_type": "display_data"
    }
   ],
   "source": [
    "plt.figure(figsize=(6,6))\n",
    "#sns.set(font_scale=1.2)\n",
    "mean = (train.is_attributed.values == 1).mean()\n",
    "ax = sns.barplot(['App Downloaded (1)', 'Not Downloaded (0)'], [mean, 1-mean])\n",
    "ax.set(ylabel='Proportion', title='App Downloaded vs Not Downloaded')\n",
    "for p, uniq in zip(ax.patches, [mean, 1-mean]):\n",
    "    height = p.get_height()\n",
    "    ax.text(p.get_x()+p.get_width()/2.,\n",
    "            height+0.01,\n",
    "            '{}%'.format(round(uniq * 100, 2)),\n",
    "            ha=\"center\")"
   ]
  },
  {
   "cell_type": "markdown",
   "metadata": {
    "_cell_guid": "a8646edb-3264-4726-90af-113ef153e632",
    "_uuid": "32dd7d7fa53806f04d339a3b618e9ac0a638f78c"
   },
   "source": [
    "### Explore ip counts.  Check if multiple ips have any downloads.\n",
    "\n",
    "At this point I was trying to figure out what 'ip' were actually encoding.  My original understanding that ips were user specific did not hold up to scrutiny.\n",
    "If ip repeated too many times, was it a bot?  This does not appear to be true, as repeated ips do convert.  See below:"
   ]
  },
  {
   "cell_type": "code",
   "execution_count": 14,
   "metadata": {
    "_cell_guid": "9f69414d-ff35-4fb0-9df8-92dd7aaeb16d",
    "_uuid": "880ef59ebd90fb4785840f9f482194df4d167def",
    "scrolled": true
   },
   "outputs": [
    {
     "data": {
      "text/html": [
       "<div>\n",
       "<style scoped>\n",
       "    .dataframe tbody tr th:only-of-type {\n",
       "        vertical-align: middle;\n",
       "    }\n",
       "\n",
       "    .dataframe tbody tr th {\n",
       "        vertical-align: top;\n",
       "    }\n",
       "\n",
       "    .dataframe thead th {\n",
       "        text-align: right;\n",
       "    }\n",
       "</style>\n",
       "<table border=\"1\" class=\"dataframe\">\n",
       "  <thead>\n",
       "    <tr style=\"text-align: right;\">\n",
       "      <th></th>\n",
       "      <th>ip</th>\n",
       "      <th>counts</th>\n",
       "    </tr>\n",
       "  </thead>\n",
       "  <tbody>\n",
       "    <tr>\n",
       "      <th>0</th>\n",
       "      <td>73516</td>\n",
       "      <td>51711</td>\n",
       "    </tr>\n",
       "    <tr>\n",
       "      <th>1</th>\n",
       "      <td>73487</td>\n",
       "      <td>51215</td>\n",
       "    </tr>\n",
       "    <tr>\n",
       "      <th>2</th>\n",
       "      <td>5314</td>\n",
       "      <td>35073</td>\n",
       "    </tr>\n",
       "    <tr>\n",
       "      <th>3</th>\n",
       "      <td>5348</td>\n",
       "      <td>35004</td>\n",
       "    </tr>\n",
       "    <tr>\n",
       "      <th>4</th>\n",
       "      <td>53454</td>\n",
       "      <td>25381</td>\n",
       "    </tr>\n",
       "    <tr>\n",
       "      <th>5</th>\n",
       "      <td>105560</td>\n",
       "      <td>23289</td>\n",
       "    </tr>\n",
       "    <tr>\n",
       "      <th>6</th>\n",
       "      <td>100275</td>\n",
       "      <td>23070</td>\n",
       "    </tr>\n",
       "    <tr>\n",
       "      <th>7</th>\n",
       "      <td>114276</td>\n",
       "      <td>22774</td>\n",
       "    </tr>\n",
       "    <tr>\n",
       "      <th>8</th>\n",
       "      <td>201182</td>\n",
       "      <td>22719</td>\n",
       "    </tr>\n",
       "    <tr>\n",
       "      <th>9</th>\n",
       "      <td>105475</td>\n",
       "      <td>22047</td>\n",
       "    </tr>\n",
       "  </tbody>\n",
       "</table>\n",
       "</div>"
      ],
      "text/plain": [
       "       ip  counts\n",
       "0   73516   51711\n",
       "1   73487   51215\n",
       "2    5314   35073\n",
       "3    5348   35004\n",
       "4   53454   25381\n",
       "5  105560   23289\n",
       "6  100275   23070\n",
       "7  114276   22774\n",
       "8  201182   22719\n",
       "9  105475   22047"
      ]
     },
     "execution_count": 14,
     "metadata": {},
     "output_type": "execute_result"
    }
   ],
   "source": [
    "#temporary table to see ips with their associated count frequencies\n",
    "temp = train['ip'].value_counts().reset_index(name='counts')\n",
    "temp.columns = ['ip', 'counts']\n",
    "temp[:10]"
   ]
  },
  {
   "cell_type": "code",
   "execution_count": 15,
   "metadata": {
    "_cell_guid": "d0eea3c7-8c3d-4abe-b1f3-3551e985476d",
    "_uuid": "456432e31b367d28c77cbb9cddc6ac376a54d373"
   },
   "outputs": [
    {
     "ename": "ValueError",
     "evalue": "Buffer dtype mismatch, expected 'Python object' but got 'long'",
     "output_type": "error",
     "traceback": [
      "\u001b[0;31m---------------------------------------------------------------------------\u001b[0m",
      "\u001b[0;31mValueError\u001b[0m                                Traceback (most recent call last)",
      "\u001b[0;31mValueError\u001b[0m: Buffer dtype mismatch, expected 'Python object' but got 'long'"
     ]
    },
    {
     "name": "stderr",
     "output_type": "stream",
     "text": [
      "Exception ignored in: 'pandas._libs.lib.is_bool_array'\n",
      "ValueError: Buffer dtype mismatch, expected 'Python object' but got 'long'\n"
     ]
    },
    {
     "ename": "ValueError",
     "evalue": "Buffer dtype mismatch, expected 'Python object' but got 'long'",
     "output_type": "error",
     "traceback": [
      "\u001b[0;31m---------------------------------------------------------------------------\u001b[0m",
      "\u001b[0;31mValueError\u001b[0m                                Traceback (most recent call last)",
      "\u001b[0;31mValueError\u001b[0m: Buffer dtype mismatch, expected 'Python object' but got 'long'"
     ]
    },
    {
     "name": "stderr",
     "output_type": "stream",
     "text": [
      "Exception ignored in: 'pandas._libs.lib.is_bool_array'\n",
      "ValueError: Buffer dtype mismatch, expected 'Python object' but got 'long'\n"
     ]
    },
    {
     "ename": "ValueError",
     "evalue": "Buffer dtype mismatch, expected 'Python object' but got 'long'",
     "output_type": "error",
     "traceback": [
      "\u001b[0;31m---------------------------------------------------------------------------\u001b[0m",
      "\u001b[0;31mValueError\u001b[0m                                Traceback (most recent call last)",
      "\u001b[0;31mValueError\u001b[0m: Buffer dtype mismatch, expected 'Python object' but got 'long'"
     ]
    },
    {
     "name": "stderr",
     "output_type": "stream",
     "text": [
      "Exception ignored in: 'pandas._libs.lib.is_bool_array'\n",
      "ValueError: Buffer dtype mismatch, expected 'Python object' but got 'long'\n"
     ]
    },
    {
     "ename": "ValueError",
     "evalue": "Buffer dtype mismatch, expected 'Python object' but got 'long'",
     "output_type": "error",
     "traceback": [
      "\u001b[0;31m---------------------------------------------------------------------------\u001b[0m",
      "\u001b[0;31mValueError\u001b[0m                                Traceback (most recent call last)",
      "\u001b[0;31mValueError\u001b[0m: Buffer dtype mismatch, expected 'Python object' but got 'long'"
     ]
    },
    {
     "name": "stderr",
     "output_type": "stream",
     "text": [
      "Exception ignored in: 'pandas._libs.lib.is_bool_array'\n",
      "ValueError: Buffer dtype mismatch, expected 'Python object' but got 'long'\n"
     ]
    },
    {
     "ename": "ValueError",
     "evalue": "Buffer dtype mismatch, expected 'Python object' but got 'long'",
     "output_type": "error",
     "traceback": [
      "\u001b[0;31m---------------------------------------------------------------------------\u001b[0m",
      "\u001b[0;31mValueError\u001b[0m                                Traceback (most recent call last)",
      "\u001b[0;31mValueError\u001b[0m: Buffer dtype mismatch, expected 'Python object' but got 'long'"
     ]
    },
    {
     "name": "stderr",
     "output_type": "stream",
     "text": [
      "Exception ignored in: 'pandas._libs.lib.is_bool_array'\n",
      "ValueError: Buffer dtype mismatch, expected 'Python object' but got 'long'\n"
     ]
    },
    {
     "ename": "ValueError",
     "evalue": "Buffer dtype mismatch, expected 'Python object' but got 'long'",
     "output_type": "error",
     "traceback": [
      "\u001b[0;31m---------------------------------------------------------------------------\u001b[0m",
      "\u001b[0;31mValueError\u001b[0m                                Traceback (most recent call last)",
      "\u001b[0;31mValueError\u001b[0m: Buffer dtype mismatch, expected 'Python object' but got 'long'"
     ]
    },
    {
     "name": "stderr",
     "output_type": "stream",
     "text": [
      "Exception ignored in: 'pandas._libs.lib.is_bool_array'\n",
      "ValueError: Buffer dtype mismatch, expected 'Python object' but got 'long'\n"
     ]
    }
   ],
   "source": [
    "#add temporary counts of ip feature ('counts') to the train table, to see if IPs with high counts have conversions\n",
    "train= train.merge(temp, on='ip', how='left')"
   ]
  },
  {
   "cell_type": "code",
   "execution_count": null,
   "metadata": {
    "_cell_guid": "f5a249f2-d6b5-4c9f-b4a8-f0a476f049b6",
    "_uuid": "0dc7c9426a09a4be4c58bc40ab8b2cec3bb31b00",
    "collapsed": true
   },
   "outputs": [],
   "source": [
    "#check top 10 values\n",
    "train[train['is_attributed']==1].sort_values('counts', ascending=False)[:10]"
   ]
  },
  {
   "cell_type": "code",
   "execution_count": null,
   "metadata": {
    "_cell_guid": "92bc4560-08e1-475f-9450-cd7a85446437",
    "_uuid": "f207a7390e52be892713eb0464d682dc3eb1bc34",
    "collapsed": true
   },
   "outputs": [],
   "source": [
    "train[train['is_attributed']==1].ip.describe()"
   ]
  },
  {
   "cell_type": "markdown",
   "metadata": {
    "_cell_guid": "8d4fd179-b00a-4c3e-b85a-95dd4988f2c5",
    "_uuid": "1b3090e6051f51ba8e29a689be8b51a66e416066"
   },
   "source": [
    "So high frequency ip counts do get conversions.   Up to 56 downloads for one ip.  Each IP must be for some network with many devices."
   ]
  },
  {
   "cell_type": "code",
   "execution_count": null,
   "metadata": {
    "_cell_guid": "83ec8e6c-d362-46c3-b882-ccf446a84649",
    "_uuid": "438258a50fdfa1523ccc016108bebd71064d87cc",
    "collapsed": true
   },
   "outputs": [],
   "source": [
    "#convert 'is_attributed' back to numeric for proportion calculations\n",
    "train['is_attributed']=train['is_attributed'].astype(int)"
   ]
  },
  {
   "cell_type": "markdown",
   "metadata": {
    "_cell_guid": "fb29de1c-4dd9-40f7-9620-dfc2f52adf89",
    "_uuid": "7e41d332485619b2d38d048932cb5211c9d5fe73"
   },
   "source": [
    "### Conversion rates over Counts of 300 most popular IPs"
   ]
  },
  {
   "cell_type": "code",
   "execution_count": null,
   "metadata": {
    "_cell_guid": "93adbb83-9651-4fec-9829-63d302b05d43",
    "_kg_hide-input": true,
    "_uuid": "7b5a2d5b29080284249e99e54a10f0b92e54a7ee",
    "collapsed": true
   },
   "outputs": [],
   "source": [
    "proportion = train[['ip', 'is_attributed']].groupby('ip', as_index=False).mean().sort_values('is_attributed', ascending=False)\n",
    "counts = train[['ip', 'is_attributed']].groupby('ip', as_index=False).count().sort_values('is_attributed', ascending=False)\n",
    "merge = counts.merge(proportion, on='ip', how='left')\n",
    "merge.columns = ['ip', 'click_count', 'prop_downloaded']\n",
    "\n",
    "ax = merge[:300].plot(secondary_y='prop_downloaded')\n",
    "plt.title('Conversion Rates over Counts of 300 Most Popular IPs')\n",
    "ax.set(ylabel='Count of clicks')\n",
    "plt.ylabel('Proportion Downloaded')\n",
    "plt.show()\n",
    "\n",
    "print('Counversion Rates over Counts of Most Popular IPs')\n",
    "print(merge[:20])\n"
   ]
  },
  {
   "cell_type": "markdown",
   "metadata": {
    "_cell_guid": "93e5e6e3-32e8-49cc-9527-5cd09139b5eb",
    "_uuid": "40238c2fbfb3ea58381713b187b94db43b337f33"
   },
   "source": [
    "Conversions are noisy and do not appear to correlate with how popular an IP is."
   ]
  },
  {
   "cell_type": "markdown",
   "metadata": {
    "_cell_guid": "9a572475-b474-422a-9b96-1cbb3b602ba1",
    "_uuid": "cda01b2eca5a5701fd09b048ce8fb259b9a648de"
   },
   "source": [
    "### Conversions by App\n",
    "\n",
    "Check 100 most popular apps by click count:"
   ]
  },
  {
   "cell_type": "code",
   "execution_count": null,
   "metadata": {
    "_cell_guid": "c8f8e47c-f069-45a4-8478-b6eaaf09ef2a",
    "_kg_hide-input": true,
    "_uuid": "48acf222ff1c057801e3ad7680b9f8c0319acda9",
    "collapsed": true
   },
   "outputs": [],
   "source": [
    "proportion = train[['app', 'is_attributed']].groupby('app', as_index=False).mean().sort_values('is_attributed', ascending=False)\n",
    "counts = train[['app', 'is_attributed']].groupby('app', as_index=False).count().sort_values('is_attributed', ascending=False)\n",
    "merge = counts.merge(proportion, on='app', how='left')\n",
    "merge.columns = ['app', 'click_count', 'prop_downloaded']\n",
    "\n",
    "ax = merge[:100].plot(secondary_y='prop_downloaded')\n",
    "plt.title('Conversion Rates over Counts of 100 Most Popular Apps')\n",
    "ax.set(ylabel='Count of clicks')\n",
    "plt.ylabel('Proportion Downloaded')\n",
    "plt.show()\n",
    "\n",
    "print('Counversion Rates over Counts of Most Popular Apps')\n",
    "print(merge[:20])"
   ]
  },
  {
   "cell_type": "markdown",
   "metadata": {
    "_cell_guid": "3df87c11-4c96-4eb3-abdb-57623dce5fa8",
    "_uuid": "39fdc3974baf450ac61cb5bb957b804714e9b492"
   },
   "source": [
    "There is a again a huge difference in clicks per app, with minimum of one click on an app and max at almost 13 million.  The proportion flucuates more as the counts go down, since each additional click has larger impact on the proportion value.  In general, for apps with counts in the thousands the ratio stays within 0.0001 - 0.0015 boundary.  For less popular apps it fluxuates more widely.  "
   ]
  },
  {
   "cell_type": "markdown",
   "metadata": {
    "_cell_guid": "f5c2fb69-0dd1-4030-bde7-990722723c02",
    "_uuid": "6dc17b2aac96e8d190febf61c9f068df2d3068b1"
   },
   "source": [
    "### Conversions by OS\n",
    "Look at top 100 operating systems by click count"
   ]
  },
  {
   "cell_type": "code",
   "execution_count": null,
   "metadata": {
    "_cell_guid": "59878825-fd6e-4190-90e4-13f7b915c401",
    "_kg_hide-input": true,
    "_uuid": "47b173a9303e79b9fcbdcf33ea03fa97518d648f",
    "collapsed": true
   },
   "outputs": [],
   "source": [
    "proportion = train[['os', 'is_attributed']].groupby('os', as_index=False).mean().sort_values('is_attributed', ascending=False)\n",
    "counts = train[['os', 'is_attributed']].groupby('os', as_index=False).count().sort_values('is_attributed', ascending=False)\n",
    "merge = counts.merge(proportion, on='os', how='left')\n",
    "merge.columns = ['os', 'click_count', 'prop_downloaded']\n",
    "\n",
    "ax = merge[:100].plot(secondary_y='prop_downloaded')\n",
    "plt.title('Conversion Rates over Counts of 100 Most Popular Operating Systems')\n",
    "ax.set(ylabel='Count of clicks')\n",
    "plt.ylabel('Proportion Downloaded')\n",
    "plt.show()\n",
    "\n",
    "print('Counversion Rates over Counts of Most Popular Operating Systems')\n",
    "print(merge[:20])"
   ]
  },
  {
   "cell_type": "markdown",
   "metadata": {
    "_cell_guid": "290fb109-ffa2-4f0a-b0d1-b9493ded19ed",
    "_uuid": "895d062a535dc520a3f6b7c52bd08b3cf5db142d"
   },
   "source": [
    "Same story. For values in the thousands the boundary on the ratio is very low, roughly between 0.0006 and 0.003, but as counts on OS become lower, the ratio starts fluxuating more wildely."
   ]
  },
  {
   "cell_type": "markdown",
   "metadata": {
    "_cell_guid": "2f64866b-dcbd-4347-a328-e69c185227a2",
    "_uuid": "9f18995506f3d791d8b939c3dbe72f2f2527daee"
   },
   "source": [
    "### Conversions by Device\n",
    "\n",
    "Devices are extremely disproportionately distributed, with number one device used almost 94% of time.  For that device proportion download was 0.001326. (0.13%)"
   ]
  },
  {
   "cell_type": "code",
   "execution_count": null,
   "metadata": {
    "_cell_guid": "1975c904-5338-4bef-bd2f-6cec6c9c6b62",
    "_kg_hide-input": true,
    "_uuid": "52c1d634ebce662b34c1a942d8e25c453e2e6079",
    "collapsed": true,
    "scrolled": true
   },
   "outputs": [],
   "source": [
    "proportion = train[['device', 'is_attributed']].groupby('device', as_index=False).mean().sort_values('is_attributed', ascending=False)\n",
    "counts = train[['device', 'is_attributed']].groupby('device', as_index=False).count().sort_values('is_attributed', ascending=False)\n",
    "merge = counts.merge(proportion, on='device', how='left')\n",
    "merge.columns = ['device', 'click_count', 'prop_downloaded']\n",
    "\n",
    "print('Count of clicks and proportion of downloads by device:')\n",
    "print(merge)"
   ]
  },
  {
   "cell_type": "markdown",
   "metadata": {
    "_cell_guid": "96bf22ab-157c-481a-b8aa-6695ff2e1230",
    "_uuid": "45cdd9d097d9ac6a74b697e3e59514920c277479"
   },
   "source": [
    "### Conversions by Channel\n"
   ]
  },
  {
   "cell_type": "code",
   "execution_count": null,
   "metadata": {
    "_cell_guid": "3f8bc653-3d17-456b-bfa0-3b6ce8cdc72e",
    "_kg_hide-input": true,
    "_uuid": "a4717e2e181adc0ee856d1b6473f832a15f511bf",
    "collapsed": true
   },
   "outputs": [],
   "source": [
    "proportion = train[['channel', 'is_attributed']].groupby('channel', as_index=False).mean().sort_values('is_attributed', ascending=False)\n",
    "counts = train[['channel', 'is_attributed']].groupby('channel', as_index=False).count().sort_values('is_attributed', ascending=False)\n",
    "merge = counts.merge(proportion, on='channel', how='left')\n",
    "merge.columns = ['channel', 'click_count', 'prop_downloaded']\n",
    "\n",
    "ax = merge[:100].plot(secondary_y='prop_downloaded')\n",
    "plt.title('Conversion Rates over Counts of 100 Most Popular Apps')\n",
    "ax.set(ylabel='Count of clicks')\n",
    "plt.ylabel('Proportion Downloaded')\n",
    "plt.show()\n",
    "\n",
    "print('Counversion Rates over Counts of Most Popular Channels')\n",
    "print(merge[:20])"
   ]
  },
  {
   "cell_type": "markdown",
   "metadata": {
    "_cell_guid": "80ab6a53-28bf-4820-8dd0-22f523356ed1",
    "_uuid": "6b695c6da99b7c47df87e49baaeb8b6929bacadb"
   },
   "source": [
    "There appear to be a few peaks for channels at reasonable click quantity, but overall the pattern holds same as for categories above.  "
   ]
  },
  {
   "cell_type": "markdown",
   "metadata": {
    "_cell_guid": "8ca07e88-b719-44df-a07f-6b4125b7baa6",
    "_uuid": "9c506d2b1f60d2ad4e247c19b6338000996f39b0"
   },
   "source": [
    "# Checking for time patterns\n",
    "\n",
    "Round the click time down to an hour of the day to see if there are any hourly patterns.\n",
    "\n",
    "For this part cannot use the first n rows from train data, as it's organized by time.  To get a genral idea for the pattern, will use train data from the randomly sampled 100000 train set provided by organizers."
   ]
  },
  {
   "cell_type": "code",
   "execution_count": null,
   "metadata": {
    "_cell_guid": "857bf167-04aa-49cf-879f-d2404bbd064b",
    "_uuid": "aa6d5428c4f9d0310be29c102bca177472340ac7",
    "collapsed": true
   },
   "outputs": [],
   "source": [
    "train_smp = pd.read_csv('../input/train_sample.csv')"
   ]
  },
  {
   "cell_type": "code",
   "execution_count": null,
   "metadata": {
    "_cell_guid": "d011f28f-f9df-42ca-bfae-1ffca7cd57a1",
    "_uuid": "e884c4ac349ed04984e3c5510360c6408478b9a0",
    "collapsed": true
   },
   "outputs": [],
   "source": [
    "train_smp.head(7)"
   ]
  },
  {
   "cell_type": "code",
   "execution_count": null,
   "metadata": {
    "_cell_guid": "e807b92f-4fd4-4cfb-b2d2-71aad7841575",
    "_uuid": "77a7c527211d64123077475133c577ce564272df",
    "collapsed": true
   },
   "outputs": [],
   "source": [
    "#convert click_time and attributed_time to time series\n",
    "train_smp['click_time'] = pd.to_datetime(train_smp['click_time'])\n",
    "train_smp['attributed_time'] = pd.to_datetime(train_smp['attributed_time'])"
   ]
  },
  {
   "cell_type": "code",
   "execution_count": null,
   "metadata": {
    "_cell_guid": "b312a990-4d01-4682-8f6b-ba498fe7cbcb",
    "_uuid": "9926ff20f22935b2eb532f8456dfd4de12b8d96a",
    "collapsed": true
   },
   "outputs": [],
   "source": [
    "#round the time to nearest hour\n",
    "train_smp['click_rnd']=train_smp['click_time'].dt.round('H')  \n",
    "\n",
    "#check for hourly patterns\n",
    "train_smp[['click_rnd','is_attributed']].groupby(['click_rnd'], as_index=True).count().plot()\n",
    "plt.title('HOURLY CLICK FREQUENCY');\n",
    "plt.ylabel('Number of Clicks');\n",
    "\n",
    "train_smp[['click_rnd','is_attributed']].groupby(['click_rnd'], as_index=True).mean().plot()\n",
    "plt.title('HOURLY CONVERSION RATIO');\n",
    "plt.ylabel('Converted Ratio');"
   ]
  },
  {
   "cell_type": "markdown",
   "metadata": {
    "_cell_guid": "466fddc9-b849-4fb7-9ec3-01c5be2eb2cc",
    "_uuid": "6d2921079956febc64037e147bd1cb9a0a3acd78"
   },
   "source": [
    "There is no clear hourly time pattern in ratios, however there is a definete pattern in frequency of clicks based on time of day.\n",
    "\n",
    "Lets extract the hour of day from each day as a separate feature, and see combined trend (merge the 4 days together by hour)."
   ]
  },
  {
   "cell_type": "code",
   "execution_count": null,
   "metadata": {
    "_cell_guid": "f35bd737-baa5-4efe-b7ce-f394a49977d2",
    "_uuid": "a990bcc90c5d929b3d26e3316bb332108558b8c9",
    "collapsed": true
   },
   "outputs": [],
   "source": [
    "#extract hour as a feature\n",
    "train_smp['click_hour']=train_smp['click_time'].dt.hour"
   ]
  },
  {
   "cell_type": "code",
   "execution_count": null,
   "metadata": {
    "_cell_guid": "10650df6-40d1-4040-9dc7-53bb3b00e210",
    "_uuid": "4409f184454123d173aa0105205b2f34bcc4294d",
    "collapsed": true
   },
   "outputs": [],
   "source": [
    "train_smp.head(7)"
   ]
  },
  {
   "cell_type": "markdown",
   "metadata": {
    "_cell_guid": "879a1594-90c2-4b91-921d-ea8976f45c7a",
    "_uuid": "884bfad88b5144a138b73cf3c0eceee5d511ad46"
   },
   "source": [
    "Let's check number of clicks by hour:"
   ]
  },
  {
   "cell_type": "code",
   "execution_count": null,
   "metadata": {
    "_cell_guid": "bdba5f32-2345-46f3-9f38-7635b7c07245",
    "_kg_hide-input": true,
    "_uuid": "bb18bee17285099c40d7f5d4c0cf93b0c73b3475",
    "collapsed": true
   },
   "outputs": [],
   "source": [
    "train_smp[['click_hour','is_attributed']].groupby(['click_hour'], as_index=True).count().plot(kind='bar', color='#a675a1')\n",
    "plt.title('HOURLY CLICK FREQUENCY Barplot');\n",
    "plt.ylabel('Number of Clicks');\n",
    "\n",
    "train_smp[['click_hour','is_attributed']].groupby(['click_hour'], as_index=True).count().plot(color='#a675a1')\n",
    "plt.title('HOURLY CLICK FREQUENCY Lineplot');\n",
    "plt.ylabel('Number of Clicks');"
   ]
  },
  {
   "cell_type": "markdown",
   "metadata": {
    "_cell_guid": "68df1f7b-c69f-43a3-b1e2-1777b7474131",
    "_uuid": "da1d5e4700e1b2fa2f0550fa900038872b528692"
   },
   "source": [
    "And number of conversions by hours:"
   ]
  },
  {
   "cell_type": "code",
   "execution_count": null,
   "metadata": {
    "_cell_guid": "6e78ea3f-01c9-49e6-a8a6-bee19fdb8415",
    "_kg_hide-input": true,
    "_uuid": "6f1705c3a5bc2375f83aa3031a8d4e243cf75b8f",
    "collapsed": true
   },
   "outputs": [],
   "source": [
    "train_smp[['click_hour','is_attributed']].groupby(['click_hour'], as_index=True).mean().plot(kind='bar', color='#75a1a6')\n",
    "plt.title('HOURLY CONVERSION RATIO Barplot');\n",
    "plt.ylabel('Converted Ratio');\n",
    "\n",
    "train_smp[['click_hour','is_attributed']].groupby(['click_hour'], as_index=True).mean().plot( color='#75a1a6')\n",
    "plt.title('HOURLY CONVERSION RATIO Lineplot');\n",
    "plt.ylabel('Converted Ratio');"
   ]
  },
  {
   "cell_type": "markdown",
   "metadata": {
    "_cell_guid": "0377e51e-d19a-47cc-b757-87ad2eac396c",
    "_uuid": "a21e3fb00079d254c613ff7f5787cd176b836999"
   },
   "source": [
    "let's overlay the two graphs to see if patterns correlate in any way"
   ]
  },
  {
   "cell_type": "code",
   "execution_count": null,
   "metadata": {
    "_cell_guid": "01a8c317-15a4-4819-b205-b65a9c8793d0",
    "_kg_hide-input": true,
    "_uuid": "adccf5af4068b4f0f6b955fea5b5dfb5c6a84130",
    "collapsed": true
   },
   "outputs": [],
   "source": [
    "#adapted from https://stackoverflow.com/questions/9103166/multiple-axis-in-matplotlib-with-different-scales\n",
    "#smonek's answer\n",
    "\n",
    "\n",
    "group = train_smp[['click_hour','is_attributed']].groupby(['click_hour'], as_index=False).mean()\n",
    "x = group['click_hour']\n",
    "ymean = group['is_attributed']\n",
    "group = train_smp[['click_hour','is_attributed']].groupby(['click_hour'], as_index=False).count()\n",
    "ycount = group['is_attributed']\n",
    "\n",
    "\n",
    "fig = plt.figure()\n",
    "host = fig.add_subplot(111)\n",
    "\n",
    "par1 = host.twinx()\n",
    "\n",
    "host.set_xlabel(\"Time\")\n",
    "host.set_ylabel(\"Proportion Converted\")\n",
    "par1.set_ylabel(\"Click Count\")\n",
    "\n",
    "#color1 = plt.cm.viridis(0)\n",
    "#color2 = plt.cm.viridis(0.5)\n",
    "color1 = '#75a1a6'\n",
    "color2 = '#a675a1'\n",
    "\n",
    "p1, = host.plot(x, ymean, color=color1,label=\"Proportion Converted\")\n",
    "p2, = par1.plot(x, ycount, color=color2, label=\"Click Count\")\n",
    "\n",
    "lns = [p1, p2]\n",
    "host.legend(handles=lns, loc='best')\n",
    "\n",
    "host.yaxis.label.set_color(p1.get_color())\n",
    "par1.yaxis.label.set_color(p2.get_color())\n",
    "\n",
    "plt.savefig(\"pyplot_multiple_y-axis.png\", bbox_inches='tight')"
   ]
  },
  {
   "cell_type": "markdown",
   "metadata": {
    "_cell_guid": "0b0490cc-7617-477f-b263-2868f144eaf9",
    "_uuid": "91fae80ac4d512ad66e86e4628ab73f782c1860f"
   },
   "source": [
    "The proportions may be more reliable if estimated on full data.  With the random sample it's  hard too tell because the variability is too high, especially for the hours with low click counts.   i.e. the fewer clicks/conversions, the wider margin of the estimated conversion ratio.  (see below)"
   ]
  },
  {
   "cell_type": "code",
   "execution_count": null,
   "metadata": {
    "_cell_guid": "fa4f4c74-636a-4eb7-a630-5e1a3045d2ae",
    "_kg_hide-input": true,
    "_uuid": "72ee00cf294793cfe49fe463518015df66829a64",
    "collapsed": true
   },
   "outputs": [],
   "source": [
    "sns.barplot('click_hour', 'is_attributed', data=train_smp)\n",
    "plt.title('HOURLY CONVERSION RATIO');\n",
    "plt.ylabel('Converted Ratio');"
   ]
  },
  {
   "cell_type": "markdown",
   "metadata": {
    "_cell_guid": "0f201a40-1c22-4a44-a22b-1c31af19f1b0",
    "_uuid": "653cb5fe02d8958e2a8a00231653f6ea365539fd",
    "collapsed": true
   },
   "source": [
    "### Look into attributed_time\n",
    "It could be useful to learn more about conversions that did take place.\n",
    "Let's see how much time passed from clicking on the ad to downloading it."
   ]
  },
  {
   "cell_type": "code",
   "execution_count": null,
   "metadata": {
    "_cell_guid": "b9754434-d148-473b-906a-85eed87106dc",
    "_uuid": "a6e89dc832959439cc13d49cb72d05c8f4b914c2",
    "collapsed": true
   },
   "outputs": [],
   "source": [
    "train_smp['timePass']= train_smp['attributed_time']-train_smp['click_time']\n",
    "#check:\n",
    "train_smp[train_smp['is_attributed']==1][:15]"
   ]
  },
  {
   "cell_type": "code",
   "execution_count": null,
   "metadata": {
    "_cell_guid": "ac59b67f-55cd-4b3b-a28e-7db45ddf1b08",
    "_uuid": "80da5cffae779cbcf4042db15a37966a8d6ed2d9",
    "collapsed": true
   },
   "outputs": [],
   "source": [
    "train_smp['timePass'].describe()"
   ]
  },
  {
   "cell_type": "markdown",
   "metadata": {
    "_cell_guid": "c047a916-daa4-4c07-bc0d-434e65d757a3",
    "_uuid": "977f3438b4acd66812a939ac3a66a992d540ea17"
   },
   "source": [
    "It takes as long as (almost) 20 hours to go from click to purchase and as little as 4 seconds.  \n",
    "\n",
    "The 4 seconds seems to low to make a decision.  This person would have either seen the ad before, or already been aware of the product some other way.\n",
    "\n",
    "Does that mean the ad was clicked on multiple times, but only one click was counted as conversion?   Or did the person click on the ad specifically with the intent to download?  (eg, if channel is something like google search, the ad could be clicked during search results view and app downloaded immediately because that's what the person intended to do right away)\n",
    "\n",
    "Raises questions to explore:\n",
    "   - How accurately are conversions tracked? How are clicks and downloads linked?  What happens if download after multiple clicks?  Is there a way to identify likely same users (same IP, Device, etc...)"
   ]
  },
  {
   "cell_type": "markdown",
   "metadata": {
    "_cell_guid": "96d7a786-e53f-459f-9710-5c9de1605b03",
    "_uuid": "6d8444d81775fd74171ac373cc38bbad403aa577"
   },
   "source": [
    "### Check actual train data (the first 10,000,000)\n",
    "double check the same feature on the first 10 million rows of train data:"
   ]
  },
  {
   "cell_type": "code",
   "execution_count": null,
   "metadata": {
    "_cell_guid": "b499cfa2-05a9-4e32-ad6e-3cc42250eec6",
    "_uuid": "76d4c71b12526cc966d35f21647760e6dd087e48",
    "collapsed": true
   },
   "outputs": [],
   "source": [
    "#check first 10,000,000 of actual train data\n",
    "train['timePass']= train['attributed_time']-train['click_time']\n",
    "train['timePass'].describe()"
   ]
  },
  {
   "cell_type": "markdown",
   "metadata": {
    "_cell_guid": "45d10245-1617-4e0b-b9c8-ebcc7f33c479",
    "_uuid": "65333d7998e483e93fb2f899a9277686053ac450"
   },
   "source": [
    "Here minimum time from click to download is virtually instanteneous.  How is this possible?  It is clearly not a result of a human decision made from clicking on an ad seen for the first time."
   ]
  },
  {
   "cell_type": "code",
   "execution_count": null,
   "metadata": {
    "_cell_guid": "384847c0-4c90-4179-81be-c2c15bb69655",
    "_uuid": "ec5bfb27f767a6a72649cb46d129fa9756864d33",
    "collapsed": true
   },
   "outputs": [],
   "source": []
  }
 ],
 "metadata": {
  "kernelspec": {
   "display_name": "Python 3",
   "language": "python",
   "name": "python3"
  },
  "language_info": {
   "codemirror_mode": {
    "name": "ipython",
    "version": 3
   },
   "file_extension": ".py",
   "mimetype": "text/x-python",
   "name": "python",
   "nbconvert_exporter": "python",
   "pygments_lexer": "ipython3",
   "version": "3.5.2"
  }
 },
 "nbformat": 4,
 "nbformat_minor": 1
}
